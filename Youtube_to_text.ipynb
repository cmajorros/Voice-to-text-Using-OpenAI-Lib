{
  "cells": [
    {
      "cell_type": "markdown",
      "metadata": {
        "id": "view-in-github",
        "colab_type": "text"
      },
      "source": [
        "<a href=\"https://colab.research.google.com/github/cmajorros/Voice-to-text-Using-OpenAI-Lib/blob/main/Youtube_to_text.ipynb\" target=\"_parent\"><img src=\"https://colab.research.google.com/assets/colab-badge.svg\" alt=\"Open In Colab\"/></a>"
      ]
    },
    {
      "cell_type": "code",
      "execution_count": null,
      "metadata": {
        "colab": {
          "base_uri": "https://localhost:8080/"
        },
        "id": "Tl3IxDMdX13_",
        "outputId": "148f7449-1024-488e-fcff-8327b20ad6d5"
      },
      "outputs": [
        {
          "output_type": "stream",
          "name": "stdout",
          "text": [
            "Requirement already satisfied: pytube in /usr/local/lib/python3.10/dist-packages (15.0.0)\n",
            "Requirement already satisfied: yt_dlp in /usr/local/lib/python3.10/dist-packages (2024.7.2)\n",
            "Requirement already satisfied: brotli in /usr/local/lib/python3.10/dist-packages (from yt_dlp) (1.1.0)\n",
            "Requirement already satisfied: certifi in /usr/local/lib/python3.10/dist-packages (from yt_dlp) (2024.6.2)\n",
            "Requirement already satisfied: mutagen in /usr/local/lib/python3.10/dist-packages (from yt_dlp) (1.47.0)\n",
            "Requirement already satisfied: pycryptodomex in /usr/local/lib/python3.10/dist-packages (from yt_dlp) (3.20.0)\n",
            "Requirement already satisfied: requests<3,>=2.32.2 in /usr/local/lib/python3.10/dist-packages (from yt_dlp) (2.32.3)\n",
            "Requirement already satisfied: urllib3<3,>=1.26.17 in /usr/local/lib/python3.10/dist-packages (from yt_dlp) (2.0.7)\n",
            "Requirement already satisfied: websockets>=12.0 in /usr/local/lib/python3.10/dist-packages (from yt_dlp) (12.0)\n",
            "Requirement already satisfied: charset-normalizer<4,>=2 in /usr/local/lib/python3.10/dist-packages (from requests<3,>=2.32.2->yt_dlp) (3.3.2)\n",
            "Requirement already satisfied: idna<4,>=2.5 in /usr/local/lib/python3.10/dist-packages (from requests<3,>=2.32.2->yt_dlp) (3.7)\n",
            "Requirement already satisfied: SpeechRecognition in /usr/local/lib/python3.10/dist-packages (3.10.4)\n",
            "Requirement already satisfied: requests>=2.26.0 in /usr/local/lib/python3.10/dist-packages (from SpeechRecognition) (2.32.3)\n",
            "Requirement already satisfied: typing-extensions in /usr/local/lib/python3.10/dist-packages (from SpeechRecognition) (4.12.2)\n",
            "Requirement already satisfied: charset-normalizer<4,>=2 in /usr/local/lib/python3.10/dist-packages (from requests>=2.26.0->SpeechRecognition) (3.3.2)\n",
            "Requirement already satisfied: idna<4,>=2.5 in /usr/local/lib/python3.10/dist-packages (from requests>=2.26.0->SpeechRecognition) (3.7)\n",
            "Requirement already satisfied: urllib3<3,>=1.21.1 in /usr/local/lib/python3.10/dist-packages (from requests>=2.26.0->SpeechRecognition) (2.0.7)\n",
            "Requirement already satisfied: certifi>=2017.4.17 in /usr/local/lib/python3.10/dist-packages (from requests>=2.26.0->SpeechRecognition) (2024.6.2)\n"
          ]
        }
      ],
      "source": [
        "!pip install pytube\n",
        "!pip install yt_dlp\n",
        "!pip install SpeechRecognition\n",
        "import os\n",
        "import pytube\n",
        "import yt_dlp\n",
        "import speech_recognition as sr"
      ]
    },
    {
      "cell_type": "code",
      "execution_count": null,
      "metadata": {
        "id": "xymTyhY-Xz03"
      },
      "outputs": [],
      "source": []
    },
    {
      "cell_type": "code",
      "execution_count": null,
      "metadata": {
        "colab": {
          "base_uri": "https://localhost:8080/"
        },
        "id": "9H0qJPzsXz7t",
        "outputId": "9fb7072f-ed53-47f2-df14-4a341a697282",
        "collapsed": true
      },
      "outputs": [
        {
          "output_type": "stream",
          "name": "stdout",
          "text": [
            "['https://www.youtube.com/watch?v=khXNETeYyhU', 'https://www.youtube.com/watch?v=6hQs3Lm3hSE', 'https://www.youtube.com/watch?v=JdoobW_2jIk', 'https://www.youtube.com/watch?v=BXrJRiQoYcA', 'https://www.youtube.com/watch?v=_fr6PO6iMfo', 'https://www.youtube.com/watch?v=D-FUYDAlGYU', 'https://www.youtube.com/watch?v=e-0j5ozWNAE', 'https://www.youtube.com/watch?v=2_7dDBK3Jvo', 'https://www.youtube.com/watch?v=fLsgoIXuZcQ', 'https://www.youtube.com/watch?v=4iT5lyxilIg', 'https://www.youtube.com/watch?v=V0HwGnC1rU8', 'https://www.youtube.com/watch?v=mAIH3hUoxEE', 'https://www.youtube.com/watch?v=7qqJYxZqauQ', 'https://www.youtube.com/watch?v=QPCvVy0QBsA', 'https://www.youtube.com/watch?v=cafjAk7t5MM', 'https://www.youtube.com/watch?v=6FNaEUGooZE', 'https://www.youtube.com/watch?v=sr4S9SVcTHE', 'https://www.youtube.com/watch?v=5RJ_pZrV3VY', 'https://www.youtube.com/watch?v=grZbws1Kw_Q', 'https://www.youtube.com/watch?v=kGfUIOK87V8', 'https://www.youtube.com/watch?v=sM1QMz33HC4', 'https://www.youtube.com/watch?v=GrlRuOELJRw', 'https://www.youtube.com/watch?v=DTG5XzsxgQw', 'https://www.youtube.com/watch?v=cnLZZY8GhE0', 'https://www.youtube.com/watch?v=Bv_j6pHoPyI', 'https://www.youtube.com/watch?v=Ym4LP-7GGRE', 'https://www.youtube.com/watch?v=QBfASI3z8S4', 'https://www.youtube.com/watch?v=HbpdnJv2TKc', 'https://www.youtube.com/watch?v=6igatxnjU3s', 'https://www.youtube.com/watch?v=aY1rno5Gv54', 'https://www.youtube.com/watch?v=xtmMVLBIS-M', 'https://www.youtube.com/watch?v=UWaYrttT5OQ', 'https://www.youtube.com/watch?v=aFvxwKokUEg', 'https://www.youtube.com/watch?v=jvy3aoy462k', 'https://www.youtube.com/watch?v=vmPvZ_YRSgs', 'https://www.youtube.com/watch?v=7MJHmk2aZu8', 'https://www.youtube.com/watch?v=Un3mciXhPVY', 'https://www.youtube.com/watch?v=xrYKMj-MyYw', 'https://www.youtube.com/watch?v=RY0SSvSUkMA', 'https://www.youtube.com/watch?v=jmfUGRZhFlM', 'https://www.youtube.com/watch?v=mqv_jzohEAE', 'https://www.youtube.com/watch?v=CdZy3LivkhQ', 'https://www.youtube.com/watch?v=LDHFY9xTzls', 'https://www.youtube.com/watch?v=J1xm3VoVkaU', 'https://www.youtube.com/watch?v=vHjA-RoQMnU', 'https://www.youtube.com/watch?v=vFTI087HYNE', 'https://www.youtube.com/watch?v=qxEWAKyiNAc', 'https://www.youtube.com/watch?v=5G-N7mEDDnc', 'https://www.youtube.com/watch?v=6y2GS2BDmZA', 'https://www.youtube.com/watch?v=JxVCF_JdREg', 'https://www.youtube.com/watch?v=WQiiuTrcCeg', 'https://www.youtube.com/watch?v=lYjYE5wKHVI', 'https://www.youtube.com/watch?v=HNkPQtfzXK0', 'https://www.youtube.com/watch?v=3FDvHAl_ilw', 'https://www.youtube.com/watch?v=fPsGaJV4T_4', 'https://www.youtube.com/watch?v=Dw_al_26F6o', 'https://www.youtube.com/watch?v=ko6LzlFgjI0', 'https://www.youtube.com/watch?v=4eh7OTfMln8', 'https://www.youtube.com/watch?v=lk_sfZq-hrU', 'https://www.youtube.com/watch?v=AH0z0B9ErKs', 'https://www.youtube.com/watch?v=gEZkFF2kokk', 'https://www.youtube.com/watch?v=Yk6bKgphj1Q', 'https://www.youtube.com/watch?v=8VL4ZPLFUYI', 'https://www.youtube.com/watch?v=GwtWRUSEjk4', 'https://www.youtube.com/watch?v=YHPki3D9Prc', 'https://www.youtube.com/watch?v=zAWVE0TwMiU', 'https://www.youtube.com/watch?v=N_UxTpOm6Mg', 'https://www.youtube.com/watch?v=f6up5x_iRbI', 'https://www.youtube.com/watch?v=tXGDmqjmcTs']\n"
          ]
        }
      ],
      "source": [
        "import os\n",
        "import yt_dlp\n",
        "import speech_recognition as sr\n",
        "import pandas as pd\n",
        "\n",
        "# Step 1: Extract video URLs from the YouTube channel using yt-dlp\n",
        "def get_video_urls(channel_url):\n",
        "    ydl_opts = {\n",
        "        'extract_flat': True,\n",
        "        'quiet': True,\n",
        "        'force_generic_extractor': True,\n",
        "    }\n",
        "    video_urls = []\n",
        "    try:\n",
        "        with yt_dlp.YoutubeDL(ydl_opts) as ydl:\n",
        "            info = ydl.extract_info(channel_url, download=False)\n",
        "            entries = info.get('entries', [])\n",
        "            video_urls = [entry['url'] for entry in entries if entry.get('url')]\n",
        "    except Exception as e:\n",
        "        print(f\"Error fetching video URLs: {e}\")\n",
        "    return video_urls\n",
        "\n",
        "# Step 2: Download the audio from each video\n",
        "def download_audio(video_url, output_path=\"audio\"):\n",
        "    try:\n",
        "        ydl_opts = {\n",
        "            'format': 'bestaudio/best',\n",
        "            'postprocessors': [{\n",
        "                'key': 'FFmpegExtractAudio',\n",
        "                'preferredcodec': 'wav',\n",
        "                'preferredquality': '192',\n",
        "            }],\n",
        "            'outtmpl': os.path.join(output_path, '%(id)s.%(ext)s'),\n",
        "            'quiet': True,\n",
        "        }\n",
        "        with yt_dlp.YoutubeDL(ydl_opts) as ydl:\n",
        "            ydl.download([video_url])\n",
        "    except Exception as e:\n",
        "        print(f\"Error downloading audio: {e}\")\n",
        "\n",
        "# Step 3: Convert audio to text using speech recognition\n",
        "def audio_to_text(audio_file):\n",
        "    recognizer = sr.Recognizer()\n",
        "    with sr.AudioFile(audio_file) as source:\n",
        "        audio = recognizer.record(source)\n",
        "    try:\n",
        "        text = recognizer.recognize_google(audio)\n",
        "        return text\n",
        "    except sr.UnknownValueError:\n",
        "        return \"Audio unintelligible\"\n",
        "    except sr.RequestError as e:\n",
        "        return f\"Error with the recognition service: {e}\"\n",
        "\n",
        "def process_channel_videos(channel_url):\n",
        "    video_urls = get_video_urls(channel_url)\n",
        "    os.makedirs('audio', exist_ok=True)\n",
        "    os.makedirs('transcripts', exist_ok=True)\n",
        "\n",
        "    data = []\n",
        "\n",
        "    for video_url in video_urls:\n",
        "        print(f\"Processing {video_url}...\")\n",
        "        download_audio(video_url)\n",
        "\n",
        "        video_id = video_url.split('=')[-1]\n",
        "        audio_file = f\"audio/{video_id}.wav\"\n",
        "        if os.path.exists(audio_file):\n",
        "            transcript = audio_to_text(audio_file)\n",
        "            with open(f\"transcripts/{video_id}.txt\", 'w') as f:\n",
        "                f.write(transcript)\n",
        "\n",
        "        # Add video ID and URL to data list\n",
        "        data.append({'video_id': video_id, 'video_url': video_url})\n",
        "\n",
        "    # Create DataFrame\n",
        "    df = pd.DataFrame(data)\n",
        "    print(df)\n",
        "    return df\n",
        "\n",
        "if __name__ == \"__main__\":\n",
        "    channel_url = \"https://www.youtube.com/@yourchannel\"\n",
        "    video_urls = get_video_urls(channel_url)\n",
        "    print(video_urls)\n",
        "\n"
      ]
    },
    {
      "cell_type": "code",
      "execution_count": null,
      "metadata": {
        "colab": {
          "base_uri": "https://localhost:8080/"
        },
        "id": "Z_7cepWqCEGh",
        "outputId": "a0a19eb4-8ec6-43b9-ae42-0a6b751a3177"
      },
      "outputs": [
        {
          "output_type": "stream",
          "name": "stdout",
          "text": [
            "                                            URL Upload Date\n",
            "0   https://www.youtube.com/watch?v=2_7dDBK3Jvo  2023-12-20\n",
            "1   https://www.youtube.com/watch?v=fLsgoIXuZcQ  2023-12-20\n",
            "2   https://www.youtube.com/watch?v=4iT5lyxilIg  2023-11-15\n",
            "3   https://www.youtube.com/watch?v=V0HwGnC1rU8  2023-10-26\n",
            "4   https://www.youtube.com/watch?v=mAIH3hUoxEE  2023-10-24\n",
            "5   https://www.youtube.com/watch?v=7qqJYxZqauQ  2023-09-01\n",
            "6   https://www.youtube.com/watch?v=QPCvVy0QBsA  2023-08-24\n",
            "7   https://www.youtube.com/watch?v=cafjAk7t5MM  2023-08-11\n",
            "8   https://www.youtube.com/watch?v=6FNaEUGooZE  2023-07-13\n",
            "9   https://www.youtube.com/watch?v=sr4S9SVcTHE  2023-06-07\n",
            "10  https://www.youtube.com/watch?v=5RJ_pZrV3VY  2023-05-24\n",
            "11  https://www.youtube.com/watch?v=grZbws1Kw_Q  2023-05-12\n",
            "12  https://www.youtube.com/watch?v=kGfUIOK87V8  2023-05-10\n",
            "13  https://www.youtube.com/watch?v=sM1QMz33HC4  2023-04-21\n",
            "14  https://www.youtube.com/watch?v=GrlRuOELJRw  2023-03-15\n",
            "15  https://www.youtube.com/watch?v=DTG5XzsxgQw  2023-01-25\n",
            "16  https://www.youtube.com/watch?v=cnLZZY8GhE0  2023-01-05\n"
          ]
        }
      ],
      "source": [
        "#!pip install pytube\n",
        "from pytube import YouTube\n",
        "# Function to get upload date\n",
        "def get_upload_date(video_url):\n",
        "    try:\n",
        "        yt = YouTube(video_url)\n",
        "        return yt.publish_date\n",
        "    except Exception as e:\n",
        "        return str(e)\n",
        "\n",
        "# Get upload dates for all videos\n",
        "data = []\n",
        "for url in video_urls:\n",
        "    date = get_upload_date(url)\n",
        "    if date and date > pd.Timestamp('2023-01-01') and date < pd.Timestamp('2024-01-01') :\n",
        "        data.append((url, date))\n",
        "\n",
        "# Create DataFrame\n",
        "df = pd.DataFrame(data, columns=['URL', 'Upload Date'])\n",
        "\n",
        "# Show the DataFrame\n",
        "print(df)"
      ]
    },
    {
      "cell_type": "code",
      "execution_count": null,
      "metadata": {
        "colab": {
          "base_uri": "https://localhost:8080/"
        },
        "id": "xuzWKyvQBxji",
        "outputId": "3cdad391-0b09-4b87-95c8-8b9751be186b"
      },
      "outputs": [
        {
          "output_type": "stream",
          "name": "stdout",
          "text": [
            "MoviePy - Writing audio in /content/downloads/Navigating the Landscape of a Fully Open Source Data Stack in 2023.mp3\n"
          ]
        },
        {
          "output_type": "stream",
          "name": "stderr",
          "text": []
        },
        {
          "output_type": "stream",
          "name": "stdout",
          "text": [
            "MoviePy - Done.\n",
            "Video downloaded and audio extracted to /content/downloads/Navigating the Landscape of a Fully Open Source Data Stack in 2023.mp3\n",
            "MoviePy - Writing audio in /content/downloads/Open Source BI FTW   Building Compelling Dashboards with Apache Superset.mp3\n"
          ]
        },
        {
          "output_type": "stream",
          "name": "stderr",
          "text": []
        },
        {
          "output_type": "stream",
          "name": "stdout",
          "text": [
            "MoviePy - Done.\n",
            "Video downloaded and audio extracted to /content/downloads/Open Source BI FTW   Building Compelling Dashboards with Apache Superset.mp3\n",
            "MoviePy - Writing audio in /content/downloads/Enhancing Custom Visualization Plugins in Apache Superset (Part 1 Overview).mp3\n"
          ]
        },
        {
          "output_type": "stream",
          "name": "stderr",
          "text": []
        },
        {
          "output_type": "stream",
          "name": "stdout",
          "text": [
            "MoviePy - Done.\n",
            "Video downloaded and audio extracted to /content/downloads/Enhancing Custom Visualization Plugins in Apache Superset (Part 1 Overview).mp3\n",
            "MoviePy - Writing audio in /content/downloads/Preset Brief Demo August 2023.mp3\n"
          ]
        },
        {
          "output_type": "stream",
          "name": "stderr",
          "text": []
        },
        {
          "output_type": "stream",
          "name": "stdout",
          "text": [
            "MoviePy - Done.\n",
            "Video downloaded and audio extracted to /content/downloads/Preset Brief Demo August 2023.mp3\n",
            "MoviePy - Writing audio in /content/downloads/Live Demo Superset 101.mp3\n"
          ]
        },
        {
          "output_type": "stream",
          "name": "stderr",
          "text": [
            "chunk:  31%|███       | 24474/78588 [00:29<01:36, 561.12it/s, now=None]"
          ]
        }
      ],
      "source": [
        "from pytube import YouTube\n",
        "from moviepy.editor import *\n",
        "import os\n",
        "# Directory to save downloads\n",
        "download_dir = 'downloads'\n",
        "os.makedirs(download_dir, exist_ok=True)\n",
        "\n",
        "def download_and_extract_audio(video_url, output_path):\n",
        "    try:\n",
        "        # Download video\n",
        "        yt = YouTube(video_url)\n",
        "        video_stream = yt.streams.filter(file_extension='mp4').first()\n",
        "        video_path = video_stream.download(output_path=output_path)\n",
        "\n",
        "        # Extract audio from video\n",
        "        video = VideoFileClip(video_path)\n",
        "        audio_path = os.path.splitext(video_path)[0] + '.mp3'\n",
        "        audio = video.audio\n",
        "        audio.write_audiofile(audio_path)\n",
        "        audio.close()\n",
        "        video.close()\n",
        "\n",
        "        print(f\"Video downloaded and audio extracted to {audio_path}\")\n",
        "    except Exception as e:\n",
        "        print(f\"An error occurred for {video_url}: {e}\")\n",
        "\n",
        "# Loop through DataFrame and process each YouTube URL\n",
        "for index, row in df.iterrows():\n",
        "    video_url = row['URL']\n",
        "    download_and_extract_audio(video_url, download_dir)"
      ]
    },
    {
      "cell_type": "markdown",
      "metadata": {
        "id": "gkub3qZeJ5J2"
      },
      "source": []
    },
    {
      "cell_type": "code",
      "execution_count": null,
      "metadata": {
        "id": "C1bnl8xYLSyJ"
      },
      "outputs": [],
      "source": [
        "!pip install openai-whisper\n"
      ]
    },
    {
      "cell_type": "code",
      "source": [
        "import whisper\n",
        "import os\n",
        "\n",
        "# Function to convert audio file to text using Whisper\n",
        "def audio_to_text(audio_path, model):\n",
        "    result = model.transcribe(audio_path)\n",
        "    return result['text']\n",
        "\n",
        "# Load the Whisper model (use 'base' or other available models)\n",
        "model = whisper.load_model('base')\n",
        "\n",
        "# Directory containing the .wav files\n",
        "directory_path = 'downloads/'\n",
        "\n",
        "# Directory to save the .txt files\n",
        "output_directory = 'content/speech_conversion/'\n",
        "\n",
        "# Create the output directory if it does not exist\n",
        "os.makedirs(output_directory, exist_ok=True)\n",
        "\n",
        "# Loop through all files in the directory\n",
        "for filename in os.listdir(directory_path):\n",
        "    if filename.endswith(\".mp3\"):\n",
        "        audio_path = os.path.join(directory_path, filename)\n",
        "        text = audio_to_text(audio_path, model)\n",
        "\n",
        "        # Save the text to a .txt file\n",
        "        output_path = os.path.join(output_directory, f\"{os.path.splitext(filename)[0]}.txt\")\n",
        "        with open(output_path, 'w') as file:\n",
        "            file.write(text)\n",
        "\n",
        "        print(f\"Converted {filename} to text and saved to {output_path}\")\n"
      ],
      "metadata": {
        "id": "cHoz0t0fosJZ"
      },
      "execution_count": null,
      "outputs": []
    },
    {
      "cell_type": "markdown",
      "metadata": {
        "id": "di7llIDIIR-S"
      },
      "source": []
    }
  ],
  "metadata": {
    "colab": {
      "provenance": [],
      "authorship_tag": "ABX9TyObWH4PRZFt16Tsn1ypT6IG",
      "include_colab_link": true
    },
    "kernelspec": {
      "display_name": "Python 3",
      "name": "python3"
    },
    "language_info": {
      "name": "python"
    }
  },
  "nbformat": 4,
  "nbformat_minor": 0
}