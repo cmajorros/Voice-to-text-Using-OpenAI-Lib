{
  "cells": [
    {
      "cell_type": "markdown",
      "metadata": {
        "id": "view-in-github",
        "colab_type": "text"
      },
      "source": [
        "<a href=\"https://colab.research.google.com/github/cmajorros/Voice-to-text-Using-OpenAI-Lib/blob/main/Youtube_to_text.ipynb\" target=\"_parent\"><img src=\"https://colab.research.google.com/assets/colab-badge.svg\" alt=\"Open In Colab\"/></a>"
      ]
    },
    {
      "cell_type": "code",
      "execution_count": null,
      "metadata": {
        "id": "Tl3IxDMdX13_"
      },
      "outputs": [],
      "source": [
        "!pip install pytube\n",
        "!pip install yt_dlp\n",
        "!pip install SpeechRecognition\n",
        "import os\n",
        "import pytube\n",
        "import yt_dlp\n",
        "import speech_recognition as sr"
      ]
    },
    {
      "cell_type": "code",
      "execution_count": null,
      "metadata": {
        "id": "xymTyhY-Xz03"
      },
      "outputs": [],
      "source": []
    },
    {
      "cell_type": "code",
      "execution_count": null,
      "metadata": {
        "id": "9H0qJPzsXz7t",
        "collapsed": true
      },
      "outputs": [],
      "source": [
        "import os\n",
        "import yt_dlp\n",
        "import speech_recognition as sr\n",
        "import pandas as pd\n",
        "\n",
        "# Step 1: Extract video URLs from the YouTube channel using yt-dlp\n",
        "def get_video_urls(channel_url):\n",
        "    ydl_opts = {\n",
        "        'extract_flat': True,\n",
        "        'quiet': True,\n",
        "        'force_generic_extractor': True,\n",
        "    }\n",
        "    video_urls = []\n",
        "    try:\n",
        "        with yt_dlp.YoutubeDL(ydl_opts) as ydl:\n",
        "            info = ydl.extract_info(channel_url, download=False)\n",
        "            entries = info.get('entries', [])\n",
        "            video_urls = [entry['url'] for entry in entries if entry.get('url')]\n",
        "    except Exception as e:\n",
        "        print(f\"Error fetching video URLs: {e}\")\n",
        "    return video_urls\n",
        "\n",
        "# Step 2: Download the audio from each video\n",
        "def download_audio(video_url, output_path=\"audio\"):\n",
        "    try:\n",
        "        ydl_opts = {\n",
        "            'format': 'bestaudio/best',\n",
        "            'postprocessors': [{\n",
        "                'key': 'FFmpegExtractAudio',\n",
        "                'preferredcodec': 'wav',\n",
        "                'preferredquality': '192',\n",
        "            }],\n",
        "            'outtmpl': os.path.join(output_path, '%(id)s.%(ext)s'),\n",
        "            'quiet': True,\n",
        "        }\n",
        "        with yt_dlp.YoutubeDL(ydl_opts) as ydl:\n",
        "            ydl.download([video_url])\n",
        "    except Exception as e:\n",
        "        print(f\"Error downloading audio: {e}\")\n",
        "\n",
        "# Step 3: Convert audio to text using speech recognition\n",
        "def audio_to_text(audio_file):\n",
        "    recognizer = sr.Recognizer()\n",
        "    with sr.AudioFile(audio_file) as source:\n",
        "        audio = recognizer.record(source)\n",
        "    try:\n",
        "        text = recognizer.recognize_google(audio)\n",
        "        return text\n",
        "    except sr.UnknownValueError:\n",
        "        return \"Audio unintelligible\"\n",
        "    except sr.RequestError as e:\n",
        "        return f\"Error with the recognition service: {e}\"\n",
        "\n",
        "def process_channel_videos(channel_url):\n",
        "    video_urls = get_video_urls(channel_url)\n",
        "    os.makedirs('audio', exist_ok=True)\n",
        "    os.makedirs('transcripts', exist_ok=True)\n",
        "\n",
        "    data = []\n",
        "\n",
        "    for video_url in video_urls:\n",
        "        print(f\"Processing {video_url}...\")\n",
        "        download_audio(video_url)\n",
        "\n",
        "        video_id = video_url.split('=')[-1]\n",
        "        audio_file = f\"audio/{video_id}.wav\"\n",
        "        if os.path.exists(audio_file):\n",
        "            transcript = audio_to_text(audio_file)\n",
        "            with open(f\"transcripts/{video_id}.txt\", 'w') as f:\n",
        "                f.write(transcript)\n",
        "\n",
        "        # Add video ID and URL to data list\n",
        "        data.append({'video_id': video_id, 'video_url': video_url})\n",
        "\n",
        "    # Create DataFrame\n",
        "    df = pd.DataFrame(data)\n",
        "    print(df)\n",
        "    return df\n",
        "\n",
        "if __name__ == \"__main__\":\n",
        "    channel_url = \"https://www.youtube.com/@yourchannel\"\n",
        "    video_urls = get_video_urls(channel_url)\n",
        "    print(video_urls)\n",
        "\n"
      ]
    },
    {
      "cell_type": "code",
      "execution_count": null,
      "metadata": {
        "id": "Z_7cepWqCEGh",
        "collapsed": true
      },
      "outputs": [],
      "source": [
        "#!pip install pytube\n",
        "from pytube import YouTube\n",
        "# Function to get upload date\n",
        "def get_upload_date(video_url):\n",
        "    try:\n",
        "        yt = YouTube(video_url)\n",
        "        return yt.publish_date\n",
        "    except Exception as e:\n",
        "        return str(e)\n",
        "\n",
        "# Get upload dates for all videos\n",
        "data = []\n",
        "for url in video_urls:\n",
        "    date = get_upload_date(url)\n",
        "    if date and date > pd.Timestamp('2023-01-01') and date < pd.Timestamp('2024-01-01') :\n",
        "        data.append((url, date))\n",
        "\n",
        "# Create DataFrame\n",
        "df = pd.DataFrame(data, columns=['URL', 'Upload Date'])\n",
        "\n",
        "# Show the DataFrame\n",
        "print(df)"
      ]
    },
    {
      "cell_type": "code",
      "execution_count": null,
      "metadata": {
        "id": "xuzWKyvQBxji",
        "collapsed": true
      },
      "outputs": [],
      "source": [
        "from pytube import YouTube\n",
        "from moviepy.editor import *\n",
        "import os\n",
        "# Directory to save downloads\n",
        "download_dir = 'downloads'\n",
        "os.makedirs(download_dir, exist_ok=True)\n",
        "\n",
        "def download_and_extract_audio(video_url, output_path):\n",
        "    try:\n",
        "        # Download video\n",
        "        yt = YouTube(video_url)\n",
        "        video_stream = yt.streams.filter(file_extension='mp4').first()\n",
        "        video_path = video_stream.download(output_path=output_path)\n",
        "\n",
        "        # Extract audio from video\n",
        "        video = VideoFileClip(video_path)\n",
        "        audio_path = os.path.splitext(video_path)[0] + '.mp3'\n",
        "        audio = video.audio\n",
        "        audio.write_audiofile(audio_path)\n",
        "        audio.close()\n",
        "        video.close()\n",
        "\n",
        "        print(f\"Video downloaded and audio extracted to {audio_path}\")\n",
        "    except Exception as e:\n",
        "        print(f\"An error occurred for {video_url}: {e}\")\n",
        "\n",
        "# Loop through DataFrame and process each YouTube URL\n",
        "for index, row in df.iterrows():\n",
        "    video_url = row['URL']\n",
        "    download_and_extract_audio(video_url, download_dir)"
      ]
    },
    {
      "cell_type": "markdown",
      "metadata": {
        "id": "gkub3qZeJ5J2"
      },
      "source": []
    },
    {
      "cell_type": "code",
      "execution_count": null,
      "metadata": {
        "id": "C1bnl8xYLSyJ"
      },
      "outputs": [],
      "source": [
        "!pip install openai-whisper\n"
      ]
    },
    {
      "cell_type": "code",
      "source": [
        "import whisper\n",
        "import os\n",
        "\n",
        "# Function to convert audio file to text using Whisper\n",
        "def audio_to_text(audio_path, model):\n",
        "    result = model.transcribe(audio_path)\n",
        "    return result['text']\n",
        "\n",
        "# Load the Whisper model (use 'base' or other available models)\n",
        "model = whisper.load_model('base')\n",
        "\n",
        "# Directory containing the .wav files\n",
        "directory_path = 'downloads/'\n",
        "\n",
        "# Directory to save the .txt files\n",
        "output_directory = 'content/speech_conversion/'\n",
        "\n",
        "# Create the output directory if it does not exist\n",
        "os.makedirs(output_directory, exist_ok=True)\n",
        "\n",
        "# Loop through all files in the directory\n",
        "for filename in os.listdir(directory_path):\n",
        "    if filename.endswith(\".mp3\"):\n",
        "        audio_path = os.path.join(directory_path, filename)\n",
        "        text = audio_to_text(audio_path, model)\n",
        "\n",
        "        # Save the text to a .txt file\n",
        "        output_path = os.path.join(output_directory, f\"{os.path.splitext(filename)[0]}.txt\")\n",
        "        with open(output_path, 'w') as file:\n",
        "            file.write(text)\n",
        "\n",
        "        print(f\"Converted {filename} to text and saved to {output_path}\")\n"
      ],
      "metadata": {
        "id": "cHoz0t0fosJZ"
      },
      "execution_count": null,
      "outputs": []
    },
    {
      "cell_type": "markdown",
      "metadata": {
        "id": "di7llIDIIR-S"
      },
      "source": []
    }
  ],
  "metadata": {
    "colab": {
      "provenance": [],
      "authorship_tag": "ABX9TyObWH4PRZFt16Tsn1ypT6IG",
      "include_colab_link": true
    },
    "kernelspec": {
      "display_name": "Python 3",
      "name": "python3"
    },
    "language_info": {
      "name": "python"
    }
  },
  "nbformat": 4,
  "nbformat_minor": 0
}